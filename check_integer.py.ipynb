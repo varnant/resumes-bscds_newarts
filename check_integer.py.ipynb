{
 "cells": [
  {
   "cell_type": "code",
   "execution_count": 1,
   "id": "ea0f6b51",
   "metadata": {},
   "outputs": [
    {
     "name": "stdout",
     "output_type": "stream",
     "text": [
      "Please enter an integer: dsf\n",
      "Invalid Integer!\n",
      "Please enter an integer: 34\n",
      "The integer you entered was 34\n"
     ]
    }
   ],
   "source": [
    "number_as_integer = None\n",
    "while number_as_integer is None:\n",
    "    try:\n",
    "        number_as_integer = int(input(\"Please enter an integer: \"))\n",
    "    except ValueError:\n",
    "        print(\"Invalid Integer!\")\n",
    "print(f\"The integer you entered was {number_as_integer}\")"
   ]
  },
  {
   "cell_type": "code",
   "execution_count": 2,
   "id": "ab55759c",
   "metadata": {},
   "outputs": [
    {
     "name": "stdout",
     "output_type": "stream",
     "text": [
      "Please enter an integer: 4dd\n",
      "Invalid Integer!\n",
      "Please enter an integer: 43\n",
      "The integer you entered was 43\n"
     ]
    }
   ],
   "source": [
    "from datetime import datetime\n",
    "\n",
    "# Function to log an error message with a timestamp\n",
    "def log_error(error_message):\n",
    "    with open('error_log.txt', 'a') as file:\n",
    "        timestamp = datetime.now().strftime('%Y-%m-%d %H:%M:%S')\n",
    "        file.write(f\"{timestamp} - ERROR - {error_message}\\n\")\n",
    "\n",
    "# Initialize the variable\n",
    "number_as_integer = None\n",
    "\n",
    "# Loop until a valid integer is entered\n",
    "while number_as_integer is None:\n",
    "    try:\n",
    "        number_as_integer = int(input(\"Please enter an integer: \"))\n",
    "    except ValueError:\n",
    "        error_message = \"Invalid Integer!\"\n",
    "        print(error_message)\n",
    "        log_error(error_message)  # Log the error to the file\n",
    "\n",
    "# Print the valid integer entered by the user\n",
    "print(f\"The integer you entered was {number_as_integer}\")\n"
   ]
  },
  {
   "cell_type": "code",
   "execution_count": 3,
   "id": "0818cfe3",
   "metadata": {},
   "outputs": [
    {
     "name": "stdout",
     "output_type": "stream",
     "text": [
      "Please enter an integer: df\n",
      "Invalid Integer!\n",
      "Debug: Timestamp generated: 2024-10-04 09:55:43\n",
      "Debug: Log entry created: 2024-10-04 09:55:43 - ERROR - Invalid Integer!\n",
      "\n",
      "Please enter an integer: 3434\n",
      "The integer you entered was 3434\n"
     ]
    }
   ],
   "source": [
    "from datetime import datetime\n",
    "\n",
    "# Function to log an error message with a timestamp\n",
    "def log_error(error_message):\n",
    "    timestamp = datetime.now().strftime('%Y-%m-%d %H:%M:%S')\n",
    "    print(f\"Debug: Timestamp generated: {timestamp}\")  # Debugging line to check timestamp\n",
    "    with open('error_log.txt', 'a') as file:\n",
    "        log_entry = f\"{timestamp} - ERROR - {error_message}\\n\"\n",
    "        print(f\"Debug: Log entry created: {log_entry}\")  # Debugging line to check log entry\n",
    "        file.write(log_entry)\n",
    "\n",
    "# Initialize the variable\n",
    "number_as_integer = None\n",
    "\n",
    "# Loop until a valid integer is entered\n",
    "while number_as_integer is None:\n",
    "    try:\n",
    "        number_as_integer = int(input(\"Please enter an integer: \"))\n",
    "    except ValueError:\n",
    "        error_message = \"Invalid Integer!\"\n",
    "        print(error_message)\n",
    "        log_error(error_message)  # Log the error to the file\n",
    "\n",
    "# Print the valid integer entered by the user\n",
    "print(f\"The integer you entered was {number_as_integer}\")\n"
   ]
  }
 ],
 "metadata": {
  "kernelspec": {
   "display_name": "Python 3 (ipykernel)",
   "language": "python",
   "name": "python3"
  },
  "language_info": {
   "codemirror_mode": {
    "name": "ipython",
    "version": 3
   },
   "file_extension": ".py",
   "mimetype": "text/x-python",
   "name": "python",
   "nbconvert_exporter": "python",
   "pygments_lexer": "ipython3",
   "version": "3.11.5"
  }
 },
 "nbformat": 4,
 "nbformat_minor": 5
}
