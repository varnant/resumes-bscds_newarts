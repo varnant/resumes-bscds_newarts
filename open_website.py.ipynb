{
 "cells": [
  {
   "cell_type": "code",
   "execution_count": 1,
   "id": "ac261391",
   "metadata": {},
   "outputs": [
    {
     "name": "stdout",
     "output_type": "stream",
     "text": [
      "Requirement already satisfied: google in c:\\users\\krish\\anaconda3\\lib\\site-packages (3.0.0)\n",
      "Requirement already satisfied: beautifulsoup4 in c:\\users\\krish\\appdata\\roaming\\python\\python311\\site-packages (from google) (4.12.3)\n",
      "Requirement already satisfied: soupsieve>1.2 in c:\\users\\krish\\appdata\\roaming\\python\\python311\\site-packages (from beautifulsoup4->google) (2.6)\n",
      "Note: you may need to restart the kernel to use updated packages.\n"
     ]
    }
   ],
   "source": [
    "pip install google"
   ]
  },
  {
   "cell_type": "code",
   "execution_count": 2,
   "id": "ca23df20",
   "metadata": {},
   "outputs": [
    {
     "name": "stdout",
     "output_type": "stream",
     "text": [
      "https://newartscollege.ac.in/\n"
     ]
    }
   ],
   "source": [
    "try:\n",
    "    from googlesearch import search \n",
    "except ImportError:\n",
    "    print(\"No module named 'google' found\")\n",
    "    \n",
    "#to search\n",
    "query=\"New Arts Commerce and Science College, Ahmednagar\"\n",
    "for j in search(query, tld=\"co.in\" ,num=10 ,stop=1 ,pause=2):\n",
    "    print(j)"
   ]
  },
  {
   "cell_type": "code",
   "execution_count": 3,
   "id": "757141fb",
   "metadata": {},
   "outputs": [
    {
     "name": "stdout",
     "output_type": "stream",
     "text": [
      "https://newartscollege.ac.in/\n"
     ]
    }
   ],
   "source": [
    "try:\n",
    "    from googlesearch import search\n",
    "    import webbrowser\n",
    "except ImportError:\n",
    "    print(\"No module named 'google' found\")\n",
    "    \n",
    "#to search\n",
    "query=\"New Arts Commerce and Science College, Ahmednagar\"\n",
    "for j in search(query, tld=\"co.in\" ,num=10 ,stop=1 ,pause=2):\n",
    "    print(j)\n",
    "    webbrowser.open(j)"
   ]
  }
 ],
 "metadata": {
  "kernelspec": {
   "display_name": "Python 3 (ipykernel)",
   "language": "python",
   "name": "python3"
  },
  "language_info": {
   "codemirror_mode": {
    "name": "ipython",
    "version": 3
   },
   "file_extension": ".py",
   "mimetype": "text/x-python",
   "name": "python",
   "nbconvert_exporter": "python",
   "pygments_lexer": "ipython3",
   "version": "3.11.5"
  }
 },
 "nbformat": 4,
 "nbformat_minor": 5
}
