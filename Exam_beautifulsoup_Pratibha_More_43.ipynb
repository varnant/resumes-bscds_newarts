{
  "nbformat": 4,
  "nbformat_minor": 0,
  "metadata": {
    "colab": {
      "provenance": []
    },
    "kernelspec": {
      "name": "python3",
      "display_name": "Python 3"
    },
    "language_info": {
      "name": "python"
    }
  },
  "cells": [
    {
      "cell_type": "code",
      "execution_count": 1,
      "metadata": {
        "colab": {
          "base_uri": "https://localhost:8080/"
        },
        "id": "g0bfVXggR8Bn",
        "outputId": "ee0d0b61-752c-4017-f4ce-888361a214ee"
      },
      "outputs": [
        {
          "output_type": "stream",
          "name": "stdout",
          "text": [
            "Collecting mysql-connector-python\n",
            "  Downloading mysql_connector_python-9.1.0-cp310-cp310-manylinux_2_28_x86_64.whl.metadata (6.0 kB)\n",
            "Downloading mysql_connector_python-9.1.0-cp310-cp310-manylinux_2_28_x86_64.whl (34.4 MB)\n",
            "\u001b[2K   \u001b[90m━━━━━━━━━━━━━━━━━━━━━━━━━━━━━━━━━━━━━━━━\u001b[0m \u001b[32m34.4/34.4 MB\u001b[0m \u001b[31m49.4 MB/s\u001b[0m eta \u001b[36m0:00:00\u001b[0m\n",
            "\u001b[?25hInstalling collected packages: mysql-connector-python\n",
            "Successfully installed mysql-connector-python-9.1.0\n"
          ]
        }
      ],
      "source": [
        "pip install mysql-connector-python\n"
      ]
    },
    {
      "cell_type": "code",
      "source": [
        "import requests\n",
        "from bs4 import BeautifulSoup\n",
        "import mysql.connector\n",
        "\n",
        "# Connect to MySQL and save data\n",
        "def save_to_mysql(site_name, title_content):\n",
        "    conn = mysql.connector.connect(\n",
        "        host=\"localhost\",  # Replace with your MySQL host\n",
        "        user=\"root\",       # Replace with your MySQL username\n",
        "        password=\"a1s2d3f4g5\", # Replace with your MySQL password\n",
        "        database=\"website_data\" # Database name\n",
        "    )\n",
        "    cursor = conn.cursor()\n",
        "    cursor.execute(\"INSERT INTO site_info (site_name, title_content) VALUES (%s, %s)\", (site_name, title_content))\n",
        "    conn.commit()\n",
        "    cursor.close()\n",
        "    conn.close()\n",
        "    print(\"Data saved successfully!\")\n",
        "\n",
        "# Fetch title tag content\n",
        "def fetch_title(site_name):\n",
        "    response = requests.get(site_name)\n",
        "    soup = BeautifulSoup(response.text, 'html.parser')\n",
        "    return soup.title.string if soup.title else \"No title found\"\n",
        "\n",
        "# Main function\n",
        "def main():\n",
        "    site_name = input(\"Enter the website URL (e.g., https://example.com): \")\n",
        "    title_content = fetch_title(site_name)\n",
        "    print(f\"Title of the site: {title_content}\")\n",
        "    save_to_mysql(site_name, title_content)\n",
        "\n",
        "if __name__ == \"__main__\":\n",
        "    main()\n"
      ],
      "metadata": {
        "id": "iHJVzEnGhJsD"
      },
      "execution_count": null,
      "outputs": []
    },
    {
      "cell_type": "code",
      "source": [],
      "metadata": {
        "id": "CRgQJBFOheai"
      },
      "execution_count": null,
      "outputs": []
    }
  ]
}