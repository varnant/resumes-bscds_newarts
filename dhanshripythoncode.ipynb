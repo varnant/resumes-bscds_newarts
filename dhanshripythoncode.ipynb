{
  "nbformat": 4,
  "nbformat_minor": 0,
  "metadata": {
    "colab": {
      "provenance": []
    },
    "kernelspec": {
      "name": "python3",
      "display_name": "Python 3"
    },
    "language_info": {
      "name": "python"
    }
  },
  "cells": [
    {
      "cell_type": "code",
      "source": [
        "!pip install mysql-connector-python"
      ],
      "metadata": {
        "colab": {
          "base_uri": "https://localhost:8080/"
        },
        "id": "D708V2MApSfG",
        "outputId": "40e7c3cf-9737-4d35-fdce-cd10cac07e03"
      },
      "execution_count": 2,
      "outputs": [
        {
          "output_type": "stream",
          "name": "stdout",
          "text": [
            "Collecting mysql-connector-python\n",
            "  Downloading mysql_connector_python-9.1.0-cp310-cp310-manylinux_2_28_x86_64.whl.metadata (6.0 kB)\n",
            "Downloading mysql_connector_python-9.1.0-cp310-cp310-manylinux_2_28_x86_64.whl (34.4 MB)\n",
            "\u001b[2K   \u001b[90m━━━━━━━━━━━━━━━━━━━━━━━━━━━━━━━━━━━━━━━━\u001b[0m \u001b[32m34.4/34.4 MB\u001b[0m \u001b[31m50.1 MB/s\u001b[0m eta \u001b[36m0:00:00\u001b[0m\n",
            "\u001b[?25hInstalling collected packages: mysql-connector-python\n",
            "Successfully installed mysql-connector-python-9.1.0\n"
          ]
        }
      ]
    },
    {
      "cell_type": "code",
      "source": [
        "import requests\n",
        "from bs4 import BeautifulSoup\n",
        "import mysql.connector\n",
        "\n",
        "def get_website_title(url):\n",
        "    try:\n",
        "        response = requests.get(url)\n",
        "        response.raise_for_status()\n",
        "        soup = BeautifulSoup(response.text, 'html.parser')\n",
        "        title = soup.title.string if soup.title else \"No title found\"\n",
        "        return title\n",
        "    except Exception as e:\n",
        "        print(f\"Error fetching title for {url}: {e}\")\n",
        "        return None\n",
        "\n",
        "def save_to_mysql(site_name, title):\n",
        "    conn = None  # Initialize conn to None\n",
        "    try:\n",
        "        # Connect to MySQL\n",
        "        conn = mysql.connector.connect(\n",
        "        host='127.0.0.1',  # Use 127.0.0.1 instead of localhost if needed\n",
        "        port=3306,         # Replace with your MySQL server's port\n",
        "        user='root',\n",
        "        password='password',\n",
        "        database='websites'\n",
        ")\n",
        "        cursor = conn.cursor()\n",
        "        # Create table if it doesn't exist\n",
        "        cursor.execute('''\n",
        "            CREATE TABLE IF NOT EXISTS website_titles (\n",
        "                id INT AUTO_INCREMENT PRIMARY KEY,\n",
        "                site_name VARCHAR(255) NOT NULL,\n",
        "                title TEXT NOT NULL\n",
        "            )\n",
        "        ''')\n",
        "\n",
        "        # Insert site name and title into the table\n",
        "        cursor.execute('''\n",
        "            INSERT INTO website_titles (site_name, title)\n",
        "            VALUES (%s, %s)\n",
        "        ''', (site_name, title))\n",
        "\n",
        "        conn.commit()\n",
        "        print(\"Data saved successfully!\")\n",
        "    except mysql.connector.Error as err:\n",
        "        print(f\"MySQL Error: {err}\")\n",
        "    finally:\n",
        "        if conn and conn.is_connected(): # Check if conn is not None and is connected\n",
        "            cursor.close()\n",
        "            conn.close()\n",
        "def main():\n",
        "    site_name = input(\"Enter the website URL (e.g., https://example.com): \")\n",
        "    title = get_website_title(site_name)\n",
        "    if title:\n",
        "        save_to_mysql(site_name,title)"
      ],
      "metadata": {
        "id": "u7qjfKWcpew9"
      },
      "execution_count": 4,
      "outputs": []
    }
  ]
}