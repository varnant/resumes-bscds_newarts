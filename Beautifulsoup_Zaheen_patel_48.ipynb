{
 "cells": [
  {
   "cell_type": "code",
   "execution_count": 3,
   "id": "45c8ac6f",
   "metadata": {},
   "outputs": [
    {
     "name": "stdout",
     "output_type": "stream",
     "text": [
      "Requirement already satisfied: beautifulsoup4 in c:\\users\\user5\\anaconda3\\lib\\site-packages (4.12.2)\n",
      "Requirement already satisfied: soupsieve>1.2 in c:\\users\\user5\\anaconda3\\lib\\site-packages (from beautifulsoup4) (2.4)\n"
     ]
    },
    {
     "name": "stderr",
     "output_type": "stream",
     "text": [
      "\n",
      "[notice] A new release of pip is available: 24.0 -> 24.3.1\n",
      "[notice] To update, run: python.exe -m pip install --upgrade pip\n"
     ]
    },
    {
     "name": "stdout",
     "output_type": "stream",
     "text": [
      "Requirement already satisfied: mysql-connector-python in c:\\users\\user5\\appdata\\roaming\\python\\python311\\site-packages (9.0.0)\n"
     ]
    },
    {
     "name": "stderr",
     "output_type": "stream",
     "text": [
      "\n",
      "[notice] A new release of pip is available: 24.0 -> 24.3.1\n",
      "[notice] To update, run: python.exe -m pip install --upgrade pip\n"
     ]
    }
   ],
   "source": [
    "!pip install beautifulsoup4\n",
    "!pip install mysql-connector-python\n"
   ]
  },
  {
   "cell_type": "code",
   "execution_count": 6,
   "id": "f95ffab1",
   "metadata": {},
   "outputs": [],
   "source": [
    "import mysql.connector\n",
    "\n",
    "def ensure_database_exists():\n",
    "    connection = mysql.connector.connect(\n",
    "        host='localhost',\n",
    "        user='root',\n",
    "        password='Kir@n2218'\n",
    "    )\n",
    "    cursor = connection.cursor()\n",
    "    cursor.execute(\"CREATE DATABASE IF NOT EXISTS Website\")\n",
    "    cursor.close()\n",
    "    connection.close()\n",
    "\n",
    "# Call the function before attempting to connect to the database\n",
    "ensure_database_exists()\n"
   ]
  },
  {
   "cell_type": "code",
   "execution_count": 7,
   "id": "2a4002df",
   "metadata": {},
   "outputs": [
    {
     "name": "stdout",
     "output_type": "stream",
     "text": [
      "Enter the website URL (with http/https): https://www.amazon.com\n",
      "Title of https://www.amazon.com has been stored in the database.\n"
     ]
    }
   ],
   "source": [
    "import mysql.connector\n",
    "\n",
    "# Function to ensure the database exists\n",
    "def ensure_database_exists():\n",
    "    connection = mysql.connector.connect(\n",
    "        host='localhost',\n",
    "        user='root',\n",
    "        password='Kir@n2218'\n",
    "    )\n",
    "    cursor = connection.cursor()\n",
    "    cursor.execute(\"CREATE DATABASE IF NOT EXISTS Website\")\n",
    "    cursor.close()\n",
    "    connection.close()\n",
    "\n",
    "# Function to store data in the database\n",
    "def store_data(site_name, title_content):\n",
    "    ensure_database_exists()  # Ensure the database exists before proceeding\n",
    "    \n",
    "    connection = mysql.connector.connect(\n",
    "        host='localhost',\n",
    "        user='root',\n",
    "        password='Kir@n2218',\n",
    "        database='Website'  # Database name\n",
    "    )\n",
    "    cursor = connection.cursor()\n",
    "\n",
    "    # Create table if it doesn't exist\n",
    "    cursor.execute(\"\"\"\n",
    "        CREATE TABLE IF NOT EXISTS website_data (\n",
    "            id INT AUTO_INCREMENT PRIMARY KEY,\n",
    "            site_name VARCHAR(255),\n",
    "            title_content VARCHAR(255)\n",
    "        )\n",
    "    \"\"\")\n",
    "\n",
    "    # Insert the data into the table\n",
    "    cursor.execute(\"\"\"\n",
    "        INSERT INTO website_data (site_name, title_content)\n",
    "        VALUES (%s, %s)\n",
    "    \"\"\", (site_name, title_content))\n",
    "\n",
    "    # Commit the transaction and close the connection\n",
    "    connection.commit()\n",
    "    cursor.close()\n",
    "    connection.close()\n",
    "\n",
    "# Example usage\n",
    "website = input('Enter the website URL (with http/https): ')\n",
    "title = 'Example Title'  # Replace with the actual title fetched from the website\n",
    "store_data(website, title)\n",
    "print(f'Title of {website} has been stored in the database.')\n"
   ]
  },
  {
   "cell_type": "code",
   "execution_count": null,
   "id": "076e33ab",
   "metadata": {},
   "outputs": [],
   "source": []
  }
 ],
 "metadata": {
  "kernelspec": {
   "display_name": "Python 3 (ipykernel)",
   "language": "python",
   "name": "python3"
  },
  "language_info": {
   "codemirror_mode": {
    "name": "ipython",
    "version": 3
   },
   "file_extension": ".py",
   "mimetype": "text/x-python",
   "name": "python",
   "nbconvert_exporter": "python",
   "pygments_lexer": "ipython3",
   "version": "3.11.5"
  }
 },
 "nbformat": 4,
 "nbformat_minor": 5
}
