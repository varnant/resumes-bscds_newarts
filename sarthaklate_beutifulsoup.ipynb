{
 "cells": [
  {
   "cell_type": "code",
   "execution_count": 11,
   "id": "8462f463",
   "metadata": {},
   "outputs": [
    {
     "name": "stdout",
     "output_type": "stream",
     "text": [
      "Requirement already satisfied: mysql-connector-python in c:\\users\\nacasca\\anaconda3\\lib\\site-packages (9.0.0)\n"
     ]
    }
   ],
   "source": [
    "!pip install mysql-connector-python"
   ]
  },
  {
   "cell_type": "code",
   "execution_count": 3,
   "id": "25bb086a",
   "metadata": {},
   "outputs": [],
   "source": [
    "import requests\n",
    "from bs4 import BeautifulSoup\n",
    "import mysql.connector"
   ]
  },
  {
   "cell_type": "code",
   "execution_count": 4,
   "id": "e45692fb",
   "metadata": {},
   "outputs": [],
   "source": [
    "def get_website_title(url):\n",
    "    try:\n",
    "        response = requests.get(url)\n",
    "        response.raise_for_status()\n",
    "        soup = BeautifulSoup(response.text, 'html.parser')\n",
    "        return soup.title.string if soup.title else \"No title found\"\n",
    "        \n",
    "    except Exception as e:\n",
    "        print(f\"Error fetching title for {url}: {e}\")\n",
    "    return None\n",
    "\n",
    "def save_to_mysql(site_name, title):\n",
    "    conn = None # Initialize conn to None\n",
    "    try:\n",
    "    # Connect to MySQL\n",
    "        conn = mysql.connector.connect(\n",
    "        host='127.0.0.1',\n",
    "        port=3306, \n",
    "        user='root',\n",
    "        password='root123',\n",
    "        database='websites'\n",
    "        )\n",
    "        cursor = conn.cursor()\n",
    "\n",
    "        cursor.execute('''\n",
    "        CREATE TABLE IF NOT EXISTS website_titles (\n",
    "        id INT AUTO_INCREMENT PRIMARY KEY,\n",
    "        site_name VARCHAR(255) NOT NULL,\n",
    "        title TEXT NOT NULL\n",
    "        )\n",
    "        ''')\n",
    "       \n",
    "        cursor.execute('''\n",
    "        INSERT INTO website_titles (site_name, title)\n",
    "        VALUES (%s, %s)\n",
    "        ''', (site_name, title))\n",
    "        conn.commit()\n",
    "        print(\"Data saved successfully!\")\n",
    "    except mysql.connector.Error as err:\n",
    "        print(f\"MySQL Error: {err}\")\n",
    "    finally:\n",
    "        if conn and conn.is_connected(): \n",
    "            connected\n",
    "            cursor.close()\n",
    "            conn.close()"
   ]
  },
  {
   "cell_type": "code",
   "execution_count": 5,
   "id": "369ece99",
   "metadata": {},
   "outputs": [
    {
     "name": "stdout",
     "output_type": "stream",
     "text": [
      "entre urlhttps://google.com\n",
      "MySQL Error: 1045 (28000): Access denied for user 'root'@'localhost' (using password: YES)\n"
     ]
    }
   ],
   "source": [
    "def main():\n",
    "    site_name = input(\"entre url\")\n",
    "    title = get_website_title(site_name)\n",
    "    if title:\n",
    "        save_to_mysql(site_name, title)\n",
    "if __name__ == \"__main__\":\n",
    "    main()"
   ]
  },
  {
   "cell_type": "code",
   "execution_count": null,
   "id": "eaff1a4f",
   "metadata": {},
   "outputs": [],
   "source": []
  }
 ],
 "metadata": {
  "kernelspec": {
   "display_name": "Python 3 (ipykernel)",
   "language": "python",
   "name": "python3"
  },
  "language_info": {
   "codemirror_mode": {
    "name": "ipython",
    "version": 3
   },
   "file_extension": ".py",
   "mimetype": "text/x-python",
   "name": "python",
   "nbconvert_exporter": "python",
   "pygments_lexer": "ipython3",
   "version": "3.11.5"
  }
 },
 "nbformat": 4,
 "nbformat_minor": 5
}
