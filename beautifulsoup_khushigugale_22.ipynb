{
 "cells": [
  {
   "cell_type": "code",
   "execution_count": 1,
   "id": "875a17de-9f91-4cd4-9da8-0f2d1b09dcca",
   "metadata": {},
   "outputs": [
    {
     "name": "stdout",
     "output_type": "stream",
     "text": [
      "Requirement already satisfied: beautifulsoup4 in c:\\users\\chann\\downloads\\vaishnavipchanna\\lib\\site-packages (4.12.2)\n",
      "Collecting mysql-connector-python\n",
      "  Downloading mysql_connector_python-9.1.0-cp311-cp311-win_amd64.whl.metadata (6.2 kB)\n",
      "Requirement already satisfied: requests in c:\\users\\chann\\downloads\\vaishnavipchanna\\lib\\site-packages (2.31.0)\n",
      "Requirement already satisfied: soupsieve>1.2 in c:\\users\\chann\\downloads\\vaishnavipchanna\\lib\\site-packages (from beautifulsoup4) (2.5)\n",
      "Requirement already satisfied: charset-normalizer<4,>=2 in c:\\users\\chann\\downloads\\vaishnavipchanna\\lib\\site-packages (from requests) (2.0.4)\n",
      "Requirement already satisfied: idna<4,>=2.5 in c:\\users\\chann\\downloads\\vaishnavipchanna\\lib\\site-packages (from requests) (3.4)\n",
      "Requirement already satisfied: urllib3<3,>=1.21.1 in c:\\users\\chann\\downloads\\vaishnavipchanna\\lib\\site-packages (from requests) (2.0.7)\n",
      "Requirement already satisfied: certifi>=2017.4.17 in c:\\users\\chann\\downloads\\vaishnavipchanna\\lib\\site-packages (from requests) (2024.2.2)\n",
      "Downloading mysql_connector_python-9.1.0-cp311-cp311-win_amd64.whl (16.1 MB)\n",
      "   ---------------------------------------- 0.0/16.1 MB ? eta -:--:--\n",
      "   ---------------------------------------- 0.0/16.1 MB ? eta -:--:--\n",
      "   ---------------------------------------- 0.0/16.1 MB ? eta -:--:--\n",
      "   ---------------------------------------- 0.0/16.1 MB ? eta -:--:--\n",
      "   ---------------------------------------- 0.0/16.1 MB 326.8 kB/s eta 0:00:50\n",
      "   ---------------------------------------- 0.2/16.1 MB 1.3 MB/s eta 0:00:13\n",
      "   - -------------------------------------- 0.6/16.1 MB 3.4 MB/s eta 0:00:05\n",
      "   -- ------------------------------------- 1.1/16.1 MB 4.7 MB/s eta 0:00:04\n",
      "   --- ------------------------------------ 1.6/16.1 MB 5.5 MB/s eta 0:00:03\n",
      "   ----- ---------------------------------- 2.1/16.1 MB 6.5 MB/s eta 0:00:03\n",
      "   ------ --------------------------------- 2.7/16.1 MB 7.0 MB/s eta 0:00:02\n",
      "   ------- -------------------------------- 3.1/16.1 MB 7.4 MB/s eta 0:00:02\n",
      "   --------- ------------------------------ 3.7/16.1 MB 7.8 MB/s eta 0:00:02\n",
      "   ---------- ----------------------------- 4.2/16.1 MB 8.1 MB/s eta 0:00:02\n",
      "   ----------- ---------------------------- 4.7/16.1 MB 8.3 MB/s eta 0:00:02\n",
      "   ------------ --------------------------- 5.2/16.1 MB 8.5 MB/s eta 0:00:02\n",
      "   -------------- ------------------------- 5.7/16.1 MB 8.7 MB/s eta 0:00:02\n",
      "   --------------- ------------------------ 6.3/16.1 MB 8.9 MB/s eta 0:00:02\n",
      "   ---------------- ----------------------- 6.8/16.1 MB 9.1 MB/s eta 0:00:02\n",
      "   ------------------ --------------------- 7.3/16.1 MB 9.1 MB/s eta 0:00:01\n",
      "   ------------------- -------------------- 7.7/16.1 MB 9.1 MB/s eta 0:00:01\n",
      "   -------------------- ------------------- 8.2/16.1 MB 9.2 MB/s eta 0:00:01\n",
      "   --------------------- ------------------ 8.7/16.1 MB 9.3 MB/s eta 0:00:01\n",
      "   ----------------------- ---------------- 9.3/16.1 MB 9.4 MB/s eta 0:00:01\n",
      "   ------------------------ --------------- 9.7/16.1 MB 9.4 MB/s eta 0:00:01\n",
      "   ------------------------- -------------- 10.2/16.1 MB 9.5 MB/s eta 0:00:01\n",
      "   -------------------------- ------------- 10.6/16.1 MB 10.9 MB/s eta 0:00:01\n",
      "   --------------------------- ------------ 11.1/16.1 MB 10.9 MB/s eta 0:00:01\n",
      "   ---------------------------- ----------- 11.6/16.1 MB 10.7 MB/s eta 0:00:01\n",
      "   ------------------------------ --------- 12.1/16.1 MB 10.7 MB/s eta 0:00:01\n",
      "   ------------------------------- -------- 12.6/16.1 MB 10.7 MB/s eta 0:00:01\n",
      "   -------------------------------- ------- 13.1/16.1 MB 10.7 MB/s eta 0:00:01\n",
      "   --------------------------------- ------ 13.6/16.1 MB 10.7 MB/s eta 0:00:01\n",
      "   ----------------------------------- ---- 14.1/16.1 MB 10.7 MB/s eta 0:00:01\n",
      "   ------------------------------------ --- 14.6/16.1 MB 10.7 MB/s eta 0:00:01\n",
      "   ------------------------------------- -- 15.2/16.1 MB 10.7 MB/s eta 0:00:01\n",
      "   ---------------------------------------  15.7/16.1 MB 10.7 MB/s eta 0:00:01\n",
      "   ---------------------------------------  16.1/16.1 MB 10.9 MB/s eta 0:00:01\n",
      "   ---------------------------------------  16.1/16.1 MB 10.9 MB/s eta 0:00:01\n",
      "   ---------------------------------------- 16.1/16.1 MB 10.1 MB/s eta 0:00:00\n",
      "Installing collected packages: mysql-connector-python\n",
      "Successfully installed mysql-connector-python-9.1.0\n",
      "Note: you may need to restart the kernel to use updated packages.\n"
     ]
    }
   ],
   "source": [
    "pip install beautifulsoup4 mysql-connector-python requests\n"
   ]
  },
  {
   "cell_type": "code",
   "execution_count": null,
   "id": "241b10d4-e68e-42ad-b18b-76a9da597db7",
   "metadata": {},
   "outputs": [
    {
     "name": "stdin",
     "output_type": "stream",
     "text": [
      "Enter the website URL:  https://www.microsoft.com\n"
     ]
    }
   ],
   "source": [
    "import requests\n",
    "from bs4 import BeautifulSoup\n",
    "import mysql.connector\n",
    "\n",
    "# Function to fetch title from a website\n",
    "def fetch_title(url):\n",
    "    response = requests.get(url)\n",
    "    soup = BeautifulSoup(response.text, 'html.parser')\n",
    "    return soup.title.string\n",
    "\n",
    "# Function to save data to MySQL\n",
    "def save_to_mysql(site_name, title):\n",
    "    try:\n",
    "        # Connect to MySQL database\n",
    "        connection = mysql.connector.connect(\n",
    "            host='localhost',\n",
    "            password='k',\n",
    "            database='webname'\n",
    "        )\n",
    "        cursor = connection.cursor()\n",
    "\n",
    "        # Create table if it doesn't exist\n",
    "        cursor.execute(\"\"\"\n",
    "            CREATE TABLE IF NOT EXISTS website_titles (\n",
    "                id INT AUTO_INCREMENT PRIMARY KEY,\n",
    "                site_name VARCHAR(255),\n",
    "                title TEXT\n",
    "            )\n",
    "        \"\"\")\n",
    "\n",
    "        # Insert data into the table\n",
    "        cursor.execute(\"\"\"\n",
    "            INSERT INTO website_titles (site_name, title) VALUES (%s, %s)\n",
    "        \"\"\", (site_name, title))\n",
    "\n",
    "        # Commit the transaction\n",
    "        connection.commit()\n",
    "\n",
    "    except mysql.connector.Error as error:\n",
    "        print(\"Failed to insert into MySQL table {}\".format(error))\n",
    "\n",
    "    finally:\n",
    "        if connection.is_connected():\n",
    "            cursor.close()\n",
    "            connection.close()\n",
    "\n",
    "# Main function\n",
    "def main():\n",
    "    url = input(\"Enter the website URL: \")\n",
    "    site_name = url.split('//')[-1].split('/')[0]  # Extract site name from URL\n",
    "    title = fetch_title(url)\n",
    "    save_to_mysql(site_name, title)\n",
    "    print(f\"Website: {site_name}\\nTitle: {title}\\nData saved to MySQL!\")\n",
    "\n",
    "if __name__ == \"__main__\":\n",
    "    main()\n"
   ]
  },
  {
   "cell_type": "code",
   "execution_count": null,
   "id": "5a1d7329-0fed-41af-9213-a92aada1b787",
   "metadata": {},
   "outputs": [],
   "source": []
  }
 ],
 "metadata": {
  "kernelspec": {
   "display_name": "Python 3 (ipykernel)",
   "language": "python",
   "name": "python3"
  },
  "language_info": {
   "codemirror_mode": {
    "name": "ipython",
    "version": 3
   },
   "file_extension": ".py",
   "mimetype": "text/x-python",
   "name": "python",
   "nbconvert_exporter": "python",
   "pygments_lexer": "ipython3",
   "version": "3.11.7"
  }
 },
 "nbformat": 4,
 "nbformat_minor": 5
}
