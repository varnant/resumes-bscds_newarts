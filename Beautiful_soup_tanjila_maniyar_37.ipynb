{
  "nbformat": 4,
  "nbformat_minor": 0,
  "metadata": {
    "colab": {
      "provenance": []
    },
    "kernelspec": {
      "name": "python3",
      "display_name": "Python 3"
    },
    "language_info": {
      "name": "python"
    }
  },
  "cells": [
    {
      "cell_type": "code",
      "execution_count": 1,
      "metadata": {
        "colab": {
          "base_uri": "https://localhost:8080/",
          "height": 383
        },
        "id": "ZvThiGjvjt6Z",
        "outputId": "37c91e35-8fee-4bf1-936e-917083efbe0a"
      },
      "outputs": [
        {
          "output_type": "error",
          "ename": "ModuleNotFoundError",
          "evalue": "No module named 'mysql'",
          "traceback": [
            "\u001b[0;31m---------------------------------------------------------------------------\u001b[0m",
            "\u001b[0;31mModuleNotFoundError\u001b[0m                       Traceback (most recent call last)",
            "\u001b[0;32m<ipython-input-1-d6517b46a258>\u001b[0m in \u001b[0;36m<cell line: 3>\u001b[0;34m()\u001b[0m\n\u001b[1;32m      1\u001b[0m \u001b[0;32mimport\u001b[0m \u001b[0mrequests\u001b[0m\u001b[0;34m\u001b[0m\u001b[0;34m\u001b[0m\u001b[0m\n\u001b[1;32m      2\u001b[0m \u001b[0;32mfrom\u001b[0m \u001b[0mbs4\u001b[0m \u001b[0;32mimport\u001b[0m \u001b[0mBeautifulSoup\u001b[0m\u001b[0;34m\u001b[0m\u001b[0;34m\u001b[0m\u001b[0m\n\u001b[0;32m----> 3\u001b[0;31m \u001b[0;32mimport\u001b[0m \u001b[0mmysql\u001b[0m\u001b[0;34m.\u001b[0m\u001b[0mconnector\u001b[0m\u001b[0;34m\u001b[0m\u001b[0;34m\u001b[0m\u001b[0m\n\u001b[0m\u001b[1;32m      4\u001b[0m \u001b[0;34m\u001b[0m\u001b[0m\n\u001b[1;32m      5\u001b[0m \u001b[0;31m# Connect to MySQL and save data\u001b[0m\u001b[0;34m\u001b[0m\u001b[0;34m\u001b[0m\u001b[0m\n",
            "\u001b[0;31mModuleNotFoundError\u001b[0m: No module named 'mysql'",
            "",
            "\u001b[0;31m---------------------------------------------------------------------------\u001b[0;32m\nNOTE: If your import is failing due to a missing package, you can\nmanually install dependencies using either !pip or !apt.\n\nTo view examples of installing some common dependencies, click the\n\"Open Examples\" button below.\n\u001b[0;31m---------------------------------------------------------------------------\u001b[0m\n"
          ],
          "errorDetails": {
            "actions": [
              {
                "action": "open_url",
                "actionText": "Open Examples",
                "url": "/notebooks/snippets/importing_libraries.ipynb"
              }
            ]
          }
        }
      ],
      "source": [
        "import requests\n",
        "from bs4 import BeautifulSoup\n",
        "import mysql.connector\n",
        "\n",
        "# Connect to MySQL and save data\n",
        "def save_to_mysql(site_name, title_content):\n",
        "    conn = mysql.connector.connect(\n",
        "        host=\"localhost\",  # Replace with your MySQL host\n",
        "        user=\"root\",       # Replace with your MySQL username\n",
        "        password=\"Sakshi@1513\", # Replace with your MySQL password\n",
        "        database=\"website_data\" # Database name\n",
        "    )\n",
        "    cursor = conn.cursor()\n",
        "    cursor.execute(\"INSERT INTO site_info (site_name, title_content) VALUES (%s, %s)\", (site_name, title_content))\n",
        "    conn.commit()\n",
        "    cursor.close()\n",
        "    conn.close()\n",
        "    print(\"Data saved successfully!\")\n",
        "\n",
        "# Fetch title tag content\n",
        "def fetch_title(site_name):\n",
        "    response = requests.get(site_name)\n",
        "    soup = BeautifulSoup(response.text, 'html.parser')\n",
        "    return soup.title.string if soup.title else \"No title found\"\n",
        "\n",
        "# Main function\n",
        "def main():\n",
        "    site_name = input(\"Enter the website URL (e.g., https://example.com): \")\n",
        "    title_content = fetch_title(site_name)\n",
        "    print(f\"Title of the site: {title_content}\")\n",
        "    save_to_mysql(site_name, title_content)\n",
        "\n",
        "if __name__ == \"__main__\":\n",
        "    main()\n"
      ]
    },
    {
      "cell_type": "code",
      "source": [
        "\n"
      ],
      "metadata": {
        "id": "jOAdp3BcmY_x"
      },
      "execution_count": null,
      "outputs": []
    }
  ]
}