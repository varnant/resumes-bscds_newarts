{
 "cells": [
  {
   "cell_type": "code",
   "execution_count": 5,
   "id": "b4f5f9d6-b49f-4662-946b-eaf3ea57f7d2",
   "metadata": {},
   "outputs": [
    {
     "name": "stdout",
     "output_type": "stream",
     "text": [
      "Requirement already satisfied: mysql-connector-python in c:\\users\\nacasca\\documents\\anaconda\\lib\\site-packages (9.0.0)\n"
     ]
    }
   ],
   "source": [
    "!pip install mysql-connector-python\n"
   ]
  },
  {
   "cell_type": "code",
   "execution_count": null,
   "id": "217afab7-122f-4e46-9d56-285e520f1fa0",
   "metadata": {},
   "outputs": [],
   "source": [
    "import requests\n",
    "from bs4 import BeautifulSoup\n",
    "import mysql.connector"
   ]
  },
  {
   "cell_type": "code",
   "execution_count": 4,
   "id": "20e10da0-bd96-4114-9700-4a5805c46d1e",
   "metadata": {},
   "outputs": [
    {
     "name": "stdout",
     "output_type": "stream",
     "text": [
      "Requirement already satisfied: mysql-connector-python in c:\\users\\nacasca\\documents\\anaconda\\lib\\site-packages (9.0.0)\n"
     ]
    },
    {
     "name": "stdin",
     "output_type": "stream",
     "text": [
      "Enter url : https://google.com\n"
     ]
    },
    {
     "name": "stdout",
     "output_type": "stream",
     "text": [
      "Title :  Google\n"
     ]
    }
   ],
   "source": [
    "\n",
    "def save():\n",
    "    snm=input(\"Enter url :\")\n",
    "    \n",
    "    response = requests.get(snm)\n",
    "    soup = BeautifulSoup(response.text, 'html.parser')\n",
    "    title = soup.title.string if soup.title else \"No title found\"\n",
    "    print(\"Title : \",title)\n",
    "\n",
    "    conn = mysql.connector.connect(\n",
    "    host='127.0.0.1',\n",
    "    user='root',\n",
    "    password='root123',\n",
    "    database='mygoogle'\n",
    "    )\n",
    "    cursor = conn.cursor()\n",
    "    cursor.execute('CREATE TABLE website_titles (site_name VARCHAR(100),title varchar(100)')\n",
    "    cursor.execute('INSERT INTO website_titles VALUES (%s, %s)', (snm, title))\n",
    "    conn.commit()\n",
    "    conn.close()\n",
    "\n",
    "save()"
   ]
  },
  {
   "cell_type": "code",
   "execution_count": null,
   "id": "14ac5a04-eea8-41cd-bfc2-7a352206379c",
   "metadata": {},
   "outputs": [],
   "source": []
  }
 ],
 "metadata": {
  "kernelspec": {
   "display_name": "Python 3 (ipykernel)",
   "language": "python",
   "name": "python3"
  },
  "language_info": {
   "codemirror_mode": {
    "name": "ipython",
    "version": 3
   },
   "file_extension": ".py",
   "mimetype": "text/x-python",
   "name": "python",
   "nbconvert_exporter": "python",
   "pygments_lexer": "ipython3",
   "version": "3.11.7"
  },
  "widgets": {
   "application/vnd.jupyter.widget-state+json": {
    "state": {},
    "version_major": 2,
    "version_minor": 0
   }
  }
 },
 "nbformat": 4,
 "nbformat_minor": 5
}
