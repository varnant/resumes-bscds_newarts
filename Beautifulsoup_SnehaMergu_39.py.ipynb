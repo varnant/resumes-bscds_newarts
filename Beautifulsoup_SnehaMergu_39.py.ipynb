{
 "cells": [
  {
   "cell_type": "code",
   "execution_count": 1,
   "id": "a90cefba",
   "metadata": {},
   "outputs": [
    {
     "name": "stdout",
     "output_type": "stream",
     "text": [
      "Requirement already satisfied: beautifulsoup4 in c:\\users\\krish\\appdata\\roaming\\python\\python311\\site-packages (4.12.3)\n",
      "Requirement already satisfied: soupsieve>1.2 in c:\\users\\krish\\appdata\\roaming\\python\\python311\\site-packages (from beautifulsoup4) (2.6)\n",
      "Requirement already satisfied: mysql-connector-python in c:\\users\\krish\\appdata\\roaming\\python\\python311\\site-packages (9.0.0)\n"
     ]
    }
   ],
   "source": [
    "!pip install beautifulsoup4\n",
    "!pip install mysql-connector-python"
   ]
  },
  {
   "cell_type": "code",
   "execution_count": 2,
   "id": "58ffce47",
   "metadata": {},
   "outputs": [],
   "source": [
    "import mysql.connector\n",
    "\n",
    "def ensure_database_exists():\n",
    "    connection = mysql.connector.connect(\n",
    "        host='localhost',\n",
    "        user='root',\n",
    "        password='skm2004'\n",
    "    )\n",
    "    cursor = connection.cursor()\n",
    "    cursor.execute(\"CREATE DATABASE IF NOT EXISTS Website\")\n",
    "    cursor.close()\n",
    "    connection.close()\n",
    "\n",
    "# Call the function before attempting to connect to the database\n",
    "ensure_database_exists()"
   ]
  },
  {
   "cell_type": "code",
   "execution_count": 3,
   "id": "3e48deca",
   "metadata": {},
   "outputs": [],
   "source": [
    "import mysql.connector\n",
    "\n",
    "def ensure_database_exists():\n",
    "    connection = mysql.connector.connect(\n",
    "        host='localhost',\n",
    "        user='root',\n",
    "        password='skm2004'\n",
    "    )\n",
    "    cursor = connection.cursor()\n",
    "    cursor.execute(\"CREATE DATABASE IF NOT EXISTS Website\")\n",
    "    cursor.close()\n",
    "    connection.close()\n",
    "\n",
    "# Call the function before attempting to connect to the database\n",
    "ensure_database_exists()"
   ]
  },
  {
   "cell_type": "code",
   "execution_count": 4,
   "id": "d12cb907",
   "metadata": {},
   "outputs": [
    {
     "name": "stdout",
     "output_type": "stream",
     "text": [
      "Enter the website URL (with http/https): https://www.chatgpt.com\n",
      "Title of https://www.chatgpt.com has been stored in the database.\n"
     ]
    }
   ],
   "source": [
    "import mysql.connector\n",
    "\n",
    "# Function to ensure the database exists\n",
    "def ensure_database_exists():\n",
    "    connection = mysql.connector.connect(\n",
    "        host='localhost',\n",
    "        user='root',\n",
    "        password='skm2004'\n",
    "    )\n",
    "    cursor = connection.cursor()\n",
    "    cursor.execute(\"CREATE DATABASE IF NOT EXISTS Website\")\n",
    "    cursor.close()\n",
    "    connection.close()\n",
    "\n",
    "# Function to store data in the database\n",
    "def store_data(site_name, title_content):\n",
    "    ensure_database_exists()  # Ensure the database exists before proceeding\n",
    "    \n",
    "    connection = mysql.connector.connect(\n",
    "        host='localhost',\n",
    "        user='root',\n",
    "        password='skm2004',\n",
    "        database='Website'  # Database name\n",
    "    )\n",
    "    cursor = connection.cursor()\n",
    "\n",
    "    # Create table if it doesn't exist\n",
    "    cursor.execute(\"\"\"\n",
    "        CREATE TABLE IF NOT EXISTS website_data (\n",
    "            id INT AUTO_INCREMENT PRIMARY KEY,\n",
    "            site_name VARCHAR(255),\n",
    "            title_content VARCHAR(255)\n",
    "        )\n",
    "    \"\"\")\n",
    "\n",
    "    # Insert the data into the table\n",
    "    cursor.execute(\"\"\"\n",
    "        INSERT INTO website_data (site_name, title_content)\n",
    "        VALUES (%s, %s)\n",
    "    \"\"\", (site_name, title_content))\n",
    "\n",
    "    # Commit the transaction and close the connection\n",
    "    connection.commit()\n",
    "    cursor.close()\n",
    "    connection.close()\n",
    "\n",
    "# Example usage\n",
    "website = input('Enter the website URL (with http/https): ')\n",
    "title = 'Example Title'  # Replace with the actual title fetched from the website\n",
    "store_data(website, title)\n",
    "print(f'Title of {website} has been stored in the database.')"
   ]
  },
  {
   "cell_type": "code",
   "execution_count": null,
   "id": "28e50c16",
   "metadata": {},
   "outputs": [],
   "source": []
  }
 ],
 "metadata": {
  "kernelspec": {
   "display_name": "Python 3 (ipykernel)",
   "language": "python",
   "name": "python3"
  },
  "language_info": {
   "codemirror_mode": {
    "name": "ipython",
    "version": 3
   },
   "file_extension": ".py",
   "mimetype": "text/x-python",
   "name": "python",
   "nbconvert_exporter": "python",
   "pygments_lexer": "ipython3",
   "version": "3.11.5"
  }
 },
 "nbformat": 4,
 "nbformat_minor": 5
}
