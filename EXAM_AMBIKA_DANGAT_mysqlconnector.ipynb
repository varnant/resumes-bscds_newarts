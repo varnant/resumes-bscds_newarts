{
 "cells": [
  {
   "cell_type": "code",
   "execution_count": 2,
   "id": "dd48cb7d",
   "metadata": {},
   "outputs": [
    {
     "name": "stdout",
     "output_type": "stream",
     "text": [
      "Requirement already satisfied: mysql-connector-python in c:\\users\\hp\\anaconda3\\lib\\site-packages (9.0.0)\n"
     ]
    }
   ],
   "source": [
    "!pip install mysql-connector-python\n"
   ]
  },
  {
   "cell_type": "code",
   "execution_count": 3,
   "id": "cd41cdb2",
   "metadata": {},
   "outputs": [],
   "source": [
    "import requests\n",
    "from bs4 import BeautifulSoup\n",
    "import mysql.connector"
   ]
  },
  {
   "cell_type": "code",
   "execution_count": 14,
   "id": "6e90c1ca",
   "metadata": {},
   "outputs": [
    {
     "name": "stdout",
     "output_type": "stream",
     "text": [
      "enter url :https://google.com\n",
      "Google\n"
     ]
    }
   ],
   "source": [
    "def save():\n",
    "    snm=input(\"enter url :\")\n",
    "    response=requests.get(snm)\n",
    "    soup=BeautifulSoup(response.text,'html.parser')\n",
    "    title=soup.title.string if soup.title else \"no title found\"\n",
    "    print(title)\n",
    "    \n",
    "    '''\n",
    "    conn=mysql.connector.connect(\n",
    "        host='localhost'\n",
    "        user='root',\n",
    "        password='root1234',\n",
    "        database='websites'\n",
    "    )\n",
    "    cursor=conn.cursor()\n",
    "    cursor.execute('CREATE table website_titles(site_name VARCHAR(100),title varchar(100))')\n",
    "    cursor.execute('INSERT INTO website_titles VALUES (%s,%s)',(site_name,title))\n",
    "    conn.comit()\n",
    "    commm.close()'''\n",
    "save()"
   ]
  },
  {
   "cell_type": "code",
   "execution_count": null,
   "id": "10336587",
   "metadata": {},
   "outputs": [],
   "source": []
  }
 ],
 "metadata": {
  "kernelspec": {
   "display_name": "Python 3 (ipykernel)",
   "language": "python",
   "name": "python3"
  },
  "language_info": {
   "codemirror_mode": {
    "name": "ipython",
    "version": 3
   },
   "file_extension": ".py",
   "mimetype": "text/x-python",
   "name": "python",
   "nbconvert_exporter": "python",
   "pygments_lexer": "ipython3",
   "version": "3.11.5"
  }
 },
 "nbformat": 4,
 "nbformat_minor": 5
}
